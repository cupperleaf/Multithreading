{
 "cells": [
  {
   "cell_type": "markdown",
   "id": "55c1baf4-93ff-4cec-8c95-44410f511d21",
   "metadata": {},
   "source": [
    "Ql. What is multithreading in python? Why is it used? Name the module used to handle threads in python."
   ]
  },
  {
   "cell_type": "raw",
   "id": "0c0dbac3-a325-4e65-9718-bb5fbce26761",
   "metadata": {},
   "source": [
    "Multithreading is defined as the ability of a processor to execute multiple threads concurrently.\n",
    "Multithreading is primarily used in performing I/O operations, i.e., if some part of the program is busy in I/O operations, then the remaining program can be responsive.\n",
    "'Threading Modules' is used to handle threads in python."
   ]
  },
  {
   "cell_type": "code",
   "execution_count": null,
   "id": "a7c85554-f10c-4df4-8365-e3158235d822",
   "metadata": {},
   "outputs": [],
   "source": []
  },
  {
   "cell_type": "markdown",
   "id": "3e05ce61-d386-4738-8e5b-bc7ed769c77c",
   "metadata": {},
   "source": [
    "Q2. Why threading module used? write the use of the following functions: 1.activeCount() 2. currentThread() 3. enumerate()"
   ]
  },
  {
   "cell_type": "raw",
   "id": "0a350447-4e58-460b-ac62-587da0348626",
   "metadata": {},
   "source": [
    "'Threading Modules' is used to handle threads in python.\n",
    "\n",
    "activeCount() − Returns the number of thread objects that are active.\n",
    "currentThread() − Returns the number of thread objects in the caller's thread control.\n",
    "enumerate() − Returns a list of all thread objects that are currently active."
   ]
  },
  {
   "cell_type": "code",
   "execution_count": null,
   "id": "b04829be-1b32-4ea2-bea6-b3d8fc07c546",
   "metadata": {},
   "outputs": [],
   "source": []
  },
  {
   "cell_type": "markdown",
   "id": "01b8949c-75c8-44cc-a46b-fba0e2a37d24",
   "metadata": {},
   "source": [
    " Q3. Explain the following functions: 1.run() 2. start() 3. join() 4. isAlive()"
   ]
  },
  {
   "cell_type": "raw",
   "id": "5e251747-719e-4d57-a7bd-1ced359f983f",
   "metadata": {},
   "source": [
    "run()  − The run() method is the entry point for a thread.\n",
    "start()  − The start() method starts a thread by calling the run method.\n",
    "join()  − The join() waits for threads to terminate.\n",
    "isAlive()  − The isAlive() method checks whether a thread is still executing."
   ]
  },
  {
   "cell_type": "code",
   "execution_count": null,
   "id": "7b4aa9cc-1b24-4860-bedb-6013c018e0ce",
   "metadata": {},
   "outputs": [],
   "source": []
  },
  {
   "cell_type": "markdown",
   "id": "0a6ac744-af17-4eaf-a21a-878fb5f22ddf",
   "metadata": {},
   "source": [
    " Q4. Write a python program to create two threads. Thread one must print the list of squares and thread two must print the list of cubes."
   ]
  },
  {
   "cell_type": "code",
   "execution_count": 1,
   "id": "b6896d47-a31d-4206-82ab-cfb7fa91644a",
   "metadata": {},
   "outputs": [],
   "source": [
    "import threading\n",
    "def cube(num):\n",
    "    print(\"cube.{}\".format(num*num*num))\n",
    "def square(num):\n",
    "    print(\"square.{}\".format(num*num))\n",
    "if __name__ ==\"__main__\":\n",
    "    t1 = [threading.Thread(target=square, args=(10,))]\n",
    "    t2 = [threading.Thread(target=cube, args=(10,))]"
   ]
  },
  {
   "cell_type": "code",
   "execution_count": 2,
   "id": "75e845c8-dfbc-4b0f-bba4-6b8d985a72b8",
   "metadata": {},
   "outputs": [
    {
     "name": "stdout",
     "output_type": "stream",
     "text": [
      "square.100\n"
     ]
    }
   ],
   "source": [
    "for a in t1:\n",
    "    a.start()"
   ]
  },
  {
   "cell_type": "code",
   "execution_count": 3,
   "id": "c3ad767e-c8f6-4a6b-bf14-5c4294279533",
   "metadata": {},
   "outputs": [
    {
     "name": "stdout",
     "output_type": "stream",
     "text": [
      "cube.512\n"
     ]
    }
   ],
   "source": [
    "cube(8)"
   ]
  },
  {
   "cell_type": "code",
   "execution_count": 4,
   "id": "53a77f0c-b1bb-4132-a123-2b9a68672309",
   "metadata": {},
   "outputs": [
    {
     "name": "stdout",
     "output_type": "stream",
     "text": [
      "square.16\n"
     ]
    }
   ],
   "source": [
    "square(4)"
   ]
  },
  {
   "cell_type": "code",
   "execution_count": null,
   "id": "286cf29d-899a-460e-bf5b-271af89a7e66",
   "metadata": {},
   "outputs": [],
   "source": []
  },
  {
   "cell_type": "markdown",
   "id": "892964ac-8ffa-4b84-aabb-afbf126b5f82",
   "metadata": {},
   "source": [
    " Q5.State advantages and disadvantages of multithreading. Q6. Explain deadlocks and race conditions."
   ]
  },
  {
   "cell_type": "raw",
   "id": "7c9482bc-9c26-4c01-b4b9-9248a3db0c4f",
   "metadata": {},
   "source": [
    "Advantagees of multithreading:\n",
    "Enhanced performance by decreased development time\n",
    "Simplified and streamlined program coding\n",
    "Improvised GUI responsiveness\n",
    "Simultaneous and parallelized occurrence of tasks\n",
    "Better use of cache storage by utilization of resources\n",
    "Decreased cost of maintenance\n",
    "Better use of CPU resource\n",
    "\n",
    "\n",
    "Disadvanntages of multithreading: \n",
    "Complex debugging and testing processes\n",
    "Overhead switching of context\n",
    "Increased potential for deadlock occurrence\n",
    "Increased difficulty level in writing a program\n",
    "Unpredictable results"
   ]
  }
 ],
 "metadata": {
  "kernelspec": {
   "display_name": "Python 3 (ipykernel)",
   "language": "python",
   "name": "python3"
  },
  "language_info": {
   "codemirror_mode": {
    "name": "ipython",
    "version": 3
   },
   "file_extension": ".py",
   "mimetype": "text/x-python",
   "name": "python",
   "nbconvert_exporter": "python",
   "pygments_lexer": "ipython3",
   "version": "3.10.8"
  }
 },
 "nbformat": 4,
 "nbformat_minor": 5
}
